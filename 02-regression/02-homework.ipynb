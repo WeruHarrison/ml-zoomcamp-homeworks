{
 "cells": [
  {
   "cell_type": "markdown",
   "id": "fefdfc41-9125-4908-a1f2-20a543043219",
   "metadata": {},
   "source": [
    "# 02-Regression Homework"
   ]
  },
  {
   "cell_type": "markdown",
   "id": "574959aa-2d14-4b50-af40-affe2e9ead11",
   "metadata": {},
   "source": [
    "## Dataset Preparation"
   ]
  },
  {
   "cell_type": "code",
   "execution_count": 1,
   "id": "6bd75a93-1163-4195-81b5-830c6d08c9df",
   "metadata": {},
   "outputs": [],
   "source": [
    "import pandas as pd\n",
    "import numpy as np\n",
    "import seaborn as sns\n",
    "import matplotlib.pyplot as plt"
   ]
  },
  {
   "cell_type": "code",
   "execution_count": 2,
   "id": "3e6e866e-dc88-4ee8-b6f4-bd2a3a313401",
   "metadata": {},
   "outputs": [
    {
     "data": {
      "text/html": [
       "<div>\n",
       "<style scoped>\n",
       "    .dataframe tbody tr th:only-of-type {\n",
       "        vertical-align: middle;\n",
       "    }\n",
       "\n",
       "    .dataframe tbody tr th {\n",
       "        vertical-align: top;\n",
       "    }\n",
       "\n",
       "    .dataframe thead th {\n",
       "        text-align: right;\n",
       "    }\n",
       "</style>\n",
       "<table border=\"1\" class=\"dataframe\">\n",
       "  <thead>\n",
       "    <tr style=\"text-align: right;\">\n",
       "      <th></th>\n",
       "      <th>engine_displacement</th>\n",
       "      <th>num_cylinders</th>\n",
       "      <th>horsepower</th>\n",
       "      <th>vehicle_weight</th>\n",
       "      <th>acceleration</th>\n",
       "      <th>model_year</th>\n",
       "      <th>origin</th>\n",
       "      <th>fuel_type</th>\n",
       "      <th>drivetrain</th>\n",
       "      <th>num_doors</th>\n",
       "      <th>fuel_efficiency_mpg</th>\n",
       "    </tr>\n",
       "  </thead>\n",
       "  <tbody>\n",
       "    <tr>\n",
       "      <th>0</th>\n",
       "      <td>170</td>\n",
       "      <td>3.0</td>\n",
       "      <td>159.0</td>\n",
       "      <td>3413.433759</td>\n",
       "      <td>17.7</td>\n",
       "      <td>2003</td>\n",
       "      <td>Europe</td>\n",
       "      <td>Gasoline</td>\n",
       "      <td>All-wheel drive</td>\n",
       "      <td>0.0</td>\n",
       "      <td>13.231729</td>\n",
       "    </tr>\n",
       "    <tr>\n",
       "      <th>1</th>\n",
       "      <td>130</td>\n",
       "      <td>5.0</td>\n",
       "      <td>97.0</td>\n",
       "      <td>3149.664934</td>\n",
       "      <td>17.8</td>\n",
       "      <td>2007</td>\n",
       "      <td>USA</td>\n",
       "      <td>Gasoline</td>\n",
       "      <td>Front-wheel drive</td>\n",
       "      <td>0.0</td>\n",
       "      <td>13.688217</td>\n",
       "    </tr>\n",
       "    <tr>\n",
       "      <th>2</th>\n",
       "      <td>170</td>\n",
       "      <td>NaN</td>\n",
       "      <td>78.0</td>\n",
       "      <td>3079.038997</td>\n",
       "      <td>15.1</td>\n",
       "      <td>2018</td>\n",
       "      <td>Europe</td>\n",
       "      <td>Gasoline</td>\n",
       "      <td>Front-wheel drive</td>\n",
       "      <td>0.0</td>\n",
       "      <td>14.246341</td>\n",
       "    </tr>\n",
       "    <tr>\n",
       "      <th>3</th>\n",
       "      <td>220</td>\n",
       "      <td>4.0</td>\n",
       "      <td>NaN</td>\n",
       "      <td>2542.392402</td>\n",
       "      <td>20.2</td>\n",
       "      <td>2009</td>\n",
       "      <td>USA</td>\n",
       "      <td>Diesel</td>\n",
       "      <td>All-wheel drive</td>\n",
       "      <td>2.0</td>\n",
       "      <td>16.912736</td>\n",
       "    </tr>\n",
       "    <tr>\n",
       "      <th>4</th>\n",
       "      <td>210</td>\n",
       "      <td>1.0</td>\n",
       "      <td>140.0</td>\n",
       "      <td>3460.870990</td>\n",
       "      <td>14.4</td>\n",
       "      <td>2009</td>\n",
       "      <td>Europe</td>\n",
       "      <td>Gasoline</td>\n",
       "      <td>All-wheel drive</td>\n",
       "      <td>2.0</td>\n",
       "      <td>12.488369</td>\n",
       "    </tr>\n",
       "  </tbody>\n",
       "</table>\n",
       "</div>"
      ],
      "text/plain": [
       "   engine_displacement  num_cylinders  horsepower  vehicle_weight  \\\n",
       "0                  170            3.0       159.0     3413.433759   \n",
       "1                  130            5.0        97.0     3149.664934   \n",
       "2                  170            NaN        78.0     3079.038997   \n",
       "3                  220            4.0         NaN     2542.392402   \n",
       "4                  210            1.0       140.0     3460.870990   \n",
       "\n",
       "   acceleration  model_year  origin fuel_type         drivetrain  num_doors  \\\n",
       "0          17.7        2003  Europe  Gasoline    All-wheel drive        0.0   \n",
       "1          17.8        2007     USA  Gasoline  Front-wheel drive        0.0   \n",
       "2          15.1        2018  Europe  Gasoline  Front-wheel drive        0.0   \n",
       "3          20.2        2009     USA    Diesel    All-wheel drive        2.0   \n",
       "4          14.4        2009  Europe  Gasoline    All-wheel drive        2.0   \n",
       "\n",
       "   fuel_efficiency_mpg  \n",
       "0            13.231729  \n",
       "1            13.688217  \n",
       "2            14.246341  \n",
       "3            16.912736  \n",
       "4            12.488369  "
      ]
     },
     "execution_count": 2,
     "metadata": {},
     "output_type": "execute_result"
    }
   ],
   "source": [
    "df = pd.read_csv('car_fuel_efficiency.csv')\n",
    "df.head()"
   ]
  },
  {
   "cell_type": "code",
   "execution_count": 3,
   "id": "fd9a6a27-790b-48cc-9cfd-406643e3c972",
   "metadata": {},
   "outputs": [
    {
     "name": "stdout",
     "output_type": "stream",
     "text": [
      "<class 'pandas.core.frame.DataFrame'>\n",
      "RangeIndex: 9704 entries, 0 to 9703\n",
      "Data columns (total 5 columns):\n",
      " #   Column               Non-Null Count  Dtype  \n",
      "---  ------               --------------  -----  \n",
      " 0   engine_displacement  9704 non-null   int64  \n",
      " 1   horsepower           8996 non-null   float64\n",
      " 2   vehicle_weight       9704 non-null   float64\n",
      " 3   model_year           9704 non-null   int64  \n",
      " 4   fuel_efficiency_mpg  9704 non-null   float64\n",
      "dtypes: float64(3), int64(2)\n",
      "memory usage: 379.2 KB\n"
     ]
    }
   ],
   "source": [
    "df = df[['engine_displacement', 'horsepower', 'vehicle_weight', 'model_year', 'fuel_efficiency_mpg']]\n",
    "df.info()"
   ]
  },
  {
   "cell_type": "markdown",
   "id": "c1f504e7-1f81-4ac5-a2d3-13b2398cdf8a",
   "metadata": {},
   "source": [
    "## EDA"
   ]
  },
  {
   "cell_type": "code",
   "execution_count": 4,
   "id": "c1b17b94-83c3-418f-b442-2bfaf40764f3",
   "metadata": {},
   "outputs": [
    {
     "data": {
      "image/png": "[encoded data removed]",
      "text/plain": [
       "<Figure size 640x480 with 1 Axes>"
      ]
     },
     "metadata": {},
     "output_type": "display_data"
    }
   ],
   "source": [
    "sns.histplot(data=df, x=\"fuel_efficiency_mpg\")\n",
    "plt.title(\"Histogram of Fuel Efficiency MPG\")\n",
    "plt.xlabel(\"Fuel efficenccy MPG\")\n",
    "plt.show()"
   ]
  },
  {
   "cell_type": "markdown",
   "id": "133d9e1d-ece6-4089-a6f8-7882352bd44f",
   "metadata": {},
   "source": [
    "The fuel_efficiency_mpg variable has a bell-shaped distribution and not a long tail."
   ]
  },
  {
   "cell_type": "markdown",
   "id": "85eb249f-1532-420b-8c89-bc165ffebd27",
   "metadata": {},
   "source": [
    "## Q1. Which column has missing values?"
   ]
  },
  {
   "cell_type": "code",
   "execution_count": 5,
   "id": "d0a51737-96ef-4fdb-b4b6-d23f5c5913ac",
   "metadata": {},
   "outputs": [
    {
     "data": {
      "text/plain": [
       "engine_displacement      0\n",
       "horsepower             708\n",
       "vehicle_weight           0\n",
       "model_year               0\n",
       "fuel_efficiency_mpg      0\n",
       "dtype: int64"
      ]
     },
     "execution_count": 5,
     "metadata": {},
     "output_type": "execute_result"
    }
   ],
   "source": [
    "df.isnull().sum()"
   ]
  },
  {
   "cell_type": "markdown",
   "id": "da24be0e-fecd-4292-9b4f-a641d3f7d49e",
   "metadata": {},
   "source": [
    "## Q2. What's the median (50% percentile) for variable 'horsepower'?"
   ]
  },
  {
   "cell_type": "code",
   "execution_count": 6,
   "id": "f72454f1-c2a9-4c15-adbf-e7591d7b6371",
   "metadata": {},
   "outputs": [
    {
     "data": {
      "text/plain": [
       "np.float64(149.0)"
      ]
     },
     "execution_count": 6,
     "metadata": {},
     "output_type": "execute_result"
    }
   ],
   "source": [
    "df['horsepower'].median()"
   ]
  },
  {
   "cell_type": "markdown",
   "id": "53a29866-9080-471e-9350-e136a8816d4c",
   "metadata": {},
   "source": [
    "## Prepare and split the dataset"
   ]
  },
  {
   "cell_type": "code",
   "execution_count": 7,
   "id": "3e80cc17-2333-402e-9a3d-e694b9ca213e",
   "metadata": {},
   "outputs": [],
   "source": [
    "# Shuffle and split\n",
    "from sklearn.utils import shuffle\n",
    "\n",
    "df = shuffle(df, random_state=42)\n",
    "n = len(df)\n",
    "n_train = int(n * 0.6)\n",
    "n_val = int(n * 0.2)\n",
    "n_test = n - n_train - n_val\n",
    "\n",
    "df_train = df.iloc[:n_train].reset_index(drop=True)\n",
    "df_val = df.iloc[n_train:n_train + n_val].reset_index(drop=True)\n",
    "df_test = df.iloc[n_train + n_val:].reset_index(drop=True)"
   ]
  },
  {
   "cell_type": "code",
   "execution_count": 8,
   "id": "c716c31b-1293-4d85-aaf2-6473658734e1",
   "metadata": {},
   "outputs": [],
   "source": [
    "# Linear regression code (no regularization):\n",
    "def prepare_X(df):\n",
    "    X = df[['engine_displacement', 'horsepower', 'vehicle_weight', 'model_year']].copy()\n",
    "    return X.values\n",
    "\n",
    "def linear_regression(X, y):\n",
    "    # Add a column of ones for the bias\n",
    "    ones = np.ones(X.shape[0])\n",
    "    X = np.column_stack([ones, X])\n",
    "    # Closed-form solution\n",
    "    w = np.linalg.inv(X.T @ X) @ X.T @ y\n",
    "    return w\n",
    "\n",
    "def predict(X, w):\n",
    "    ones = np.ones(X.shape[0])\n",
    "    X = np.column_stack([ones, X])\n",
    "    return X @ w"
   ]
  },
  {
   "cell_type": "markdown",
   "id": "d7d40bc1-1fe6-4fbd-9437-12f49ec2b2c2",
   "metadata": {},
   "source": [
    "## Q3. Which strategy for handling missing values gives a better RMSE?"
   ]
  },
  {
   "cell_type": "markdown",
   "id": "f6d09260-bf6f-4352-b1a4-361acd87e0f2",
   "metadata": {},
   "source": [
    "### Option 1: Fill with 0"
   ]
  },
  {
   "cell_type": "code",
   "execution_count": 9,
   "id": "f049e0b1-0209-4492-8a1c-5f35ce685789",
   "metadata": {},
   "outputs": [
    {
     "name": "stdout",
     "output_type": "stream",
     "text": [
      "RMSE (fill with 0): 0.52\n"
     ]
    }
   ],
   "source": [
    "df_train_0 = df_train.fillna(0)\n",
    "df_val_0 = df_val.fillna(0)\n",
    "\n",
    "X_train_0 = prepare_X(df_train_0)\n",
    "y_train = df_train_0.fuel_efficiency_mpg.values\n",
    "\n",
    "w0 = linear_regression(X_train_0, y_train)\n",
    "\n",
    "X_val_0 = prepare_X(df_val_0)\n",
    "y_val = df_val_0.fuel_efficiency_mpg.values\n",
    "\n",
    "y_pred_0 = predict(X_val_0, w0)\n",
    "rmse_0 = np.sqrt(np.mean((y_val - y_pred_0) ** 2))\n",
    "print(\"RMSE (fill with 0):\", round(rmse_0, 2))"
   ]
  },
  {
   "cell_type": "markdown",
   "id": "ef5eac73-c36f-4435-b782-e6d483e3766f",
   "metadata": {},
   "source": [
    "### Option 2: Fill with the mean"
   ]
  },
  {
   "cell_type": "code",
   "execution_count": 10,
   "id": "8a71eaf4-37e2-48a0-aa92-497c15a40f4e",
   "metadata": {},
   "outputs": [
    {
     "name": "stdout",
     "output_type": "stream",
     "text": [
      "RMSE (fill with mean): 0.46\n"
     ]
    }
   ],
   "source": [
    "means = df_train.mean()\n",
    "df_train_mean = df_train.fillna(means)\n",
    "df_val_mean = df_val.fillna(means)\n",
    "\n",
    "X_train_mean = prepare_X(df_train_mean)\n",
    "y_train = df_train_mean.fuel_efficiency_mpg.values\n",
    "\n",
    "w_mean = linear_regression(X_train_mean, y_train)\n",
    "\n",
    "X_val_mean = prepare_X(df_val_mean)\n",
    "y_val = df_val_mean.fuel_efficiency_mpg.values\n",
    "\n",
    "y_pred_mean = predict(X_val_mean, w_mean)\n",
    "rmse_mean = np.sqrt(np.mean((y_val - y_pred_mean) ** 2))\n",
    "print(\"RMSE (fill with mean):\", round(rmse_mean, 2))"
   ]
  },
  {
   "cell_type": "markdown",
   "id": "ced9922b-1b01-4d68-8cc8-cfa67d3c8c8b",
   "metadata": {},
   "source": [
    "## Q4. Which r gives the best RMSE?"
   ]
  },
  {
   "cell_type": "code",
   "execution_count": 11,
   "id": "f43ded2b-b407-4f8d-8842-efb4f0bf5084",
   "metadata": {},
   "outputs": [
    {
     "name": "stdout",
     "output_type": "stream",
     "text": [
      "r=     0: RMSE=0.52\n",
      "r=  0.01: RMSE=0.52\n",
      "r=   0.1: RMSE=0.52\n",
      "r=     1: RMSE=0.52\n",
      "r=     5: RMSE=0.52\n",
      "r=    10: RMSE=0.52\n",
      "r=   100: RMSE=0.52\n"
     ]
    }
   ],
   "source": [
    "def prepare_X(df):\n",
    "    features = ['engine_displacement', 'horsepower', 'vehicle_weight', 'model_year']\n",
    "    df_num = df[features]\n",
    "    df_num = df_num.fillna(0)\n",
    "    X = df_num.values\n",
    "    return X\n",
    "\n",
    "def train_linear_regression_reg(X, y, r=0.0):\n",
    "    ones = np.ones(X.shape[0])\n",
    "    X = np.column_stack([ones, X])\n",
    "\n",
    "    XTX = X.T.dot(X)\n",
    "    reg = r * np.eye(XTX.shape[0])\n",
    "    XTX = XTX + reg\n",
    "\n",
    "    XTX_inv = np.linalg.inv(XTX)\n",
    "    w = XTX_inv.dot(X.T).dot(y)\n",
    "    return w[0], w[1:]\n",
    "\n",
    "def rmse(y, y_pred):\n",
    "    se = (y - y_pred) ** 2\n",
    "    mse = se.mean()\n",
    "    return np.sqrt(mse)\n",
    "\n",
    "# Prepare data\n",
    "X_train = prepare_X(df_train)\n",
    "y_train = df_train['fuel_efficiency_mpg'].values\n",
    "\n",
    "X_val = prepare_X(df_val)\n",
    "y_val = df_val['fuel_efficiency_mpg'].values\n",
    "\n",
    "# Try different r\n",
    "r_values = [0, 0.01, 0.1, 1, 5, 10, 100]\n",
    "rmse_scores = []\n",
    "\n",
    "for r in r_values:\n",
    "    w_0, w = train_linear_regression_reg(X_train, y_train, r=r)\n",
    "    y_pred = w_0 + X_val.dot(w)\n",
    "    score = rmse(y_val, y_pred)\n",
    "    score_rounded = round(score, 2)\n",
    "    print(f\"r={r:>6}: RMSE={score_rounded}\")"
   ]
  },
  {
   "cell_type": "markdown",
   "id": "d829cd47-20c2-49c1-a33e-d4f782cff2a1",
   "metadata": {},
   "source": [
    "## Q5. What's the value of std?"
   ]
  },
  {
   "cell_type": "code",
   "execution_count": 14,
   "id": "c2cc3812-33e8-4c0f-94ef-c56e37a9f9a4",
   "metadata": {},
   "outputs": [
    {
     "name": "stdout",
     "output_type": "stream",
     "text": [
      "Seed: 0 -> RMSE: 0.516\n",
      "Seed: 1 -> RMSE: 0.509\n",
      "Seed: 2 -> RMSE: 0.516\n",
      "Seed: 3 -> RMSE: 0.527\n",
      "Seed: 4 -> RMSE: 0.533\n",
      "Seed: 5 -> RMSE: 0.518\n",
      "Seed: 6 -> RMSE: 0.513\n",
      "Seed: 7 -> RMSE: 0.53\n",
      "Seed: 8 -> RMSE: 0.507\n",
      "Seed: 9 -> RMSE: 0.521\n",
      "Standard deviation: 0.008\n"
     ]
    }
   ],
   "source": [
    "import numpy as np\n",
    "\n",
    "# Define RMSE and train_linear_regression as in the notebook\n",
    "def rmse(y, y_pred):\n",
    "    se = (y - y_pred) ** 2\n",
    "    mse = se.mean()\n",
    "    return np.sqrt(mse)\n",
    "\n",
    "def train_linear_regression(X, y):\n",
    "    ones = np.ones(X.shape[0])\n",
    "    X = np.column_stack([ones, X])\n",
    "    XTX = X.T.dot(X)\n",
    "    XTX_inv = np.linalg.inv(XTX)\n",
    "    w = XTX_inv.dot(X.T).dot(y)\n",
    "    return w[0], w[1:]\n",
    "\n",
    "# List of features\n",
    "features = ['engine_displacement', 'horsepower', 'vehicle_weight', 'model_year']\n",
    "\n",
    "rmse_scores = []\n",
    "\n",
    "for seed in range(10):\n",
    "    # Shuffle using pandas sample\n",
    "    df_shuffled = df.sample(frac=1, random_state=seed).reset_index(drop=True)\n",
    "    n = len(df_shuffled)\n",
    "    n_train = int(0.6 * n)\n",
    "    n_val = int(0.2 * n)\n",
    "    n_test = n - n_train - n_val\n",
    "\n",
    "    # Slicing\n",
    "    df_train = df_shuffled.iloc[:n_train].copy()\n",
    "    df_val = df_shuffled.iloc[n_train:n_train+n_val].copy()\n",
    "    # (test set not used)\n",
    "\n",
    "    # Fill NAs with 0 after splitting\n",
    "    df_train = df_train.fillna(0)\n",
    "    df_val = df_val.fillna(0)\n",
    "\n",
    "    # Prepare X and y\n",
    "    X_train = df_train[features].values\n",
    "    y_train = df_train['fuel_efficiency_mpg'].values\n",
    "\n",
    "    X_val = df_val[features].values\n",
    "    y_val = df_val['fuel_efficiency_mpg'].values\n",
    "\n",
    "    # Train\n",
    "    w0, w = train_linear_regression(X_train, y_train)\n",
    "\n",
    "    # Predict\n",
    "    y_pred = w0 + X_val.dot(w)\n",
    "\n",
    "    # Score\n",
    "    score = rmse(y_val, y_pred)\n",
    "    rmse_scores.append(score)\n",
    "\n",
    "    print(f\"Seed: {seed} -> RMSE: {round(score, 3)}\")\n",
    "\n",
    "# Standard deviation, 3 decimals\n",
    "std = np.std(rmse_scores)\n",
    "print(\"Standard deviation:\", round(std, 3))"
   ]
  },
  {
   "cell_type": "code",
   "execution_count": null,
   "id": "b2f38dce-e27e-4efc-9e37-ff38cab113b1",
   "metadata": {},
   "outputs": [],
   "source": []
  }
 ],
 "metadata": {
  "kernelspec": {
   "display_name": "Python 3 (ipykernel)",
   "language": "python",
   "name": "python3"
  },
  "language_info": {
   "codemirror_mode": {
    "name": "ipython",
    "version": 3
   },
   "file_extension": ".py",
   "mimetype": "text/x-python",
   "name": "python",
   "nbconvert_exporter": "python",
   "pygments_lexer": "ipython3",
   "version": "3.12.1"
  }
 },
 "nbformat": 4,
 "nbformat_minor": 5
}
